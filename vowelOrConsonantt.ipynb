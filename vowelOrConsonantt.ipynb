{
  "nbformat": 4,
  "nbformat_minor": 0,
  "metadata": {
    "colab": {
      "provenance": [],
      "authorship_tag": "ABX9TyPyOqvPkA1QnnZzMxIc5Hzj",
      "include_colab_link": true
    },
    "kernelspec": {
      "name": "python3",
      "display_name": "Python 3"
    },
    "language_info": {
      "name": "python"
    }
  },
  "cells": [
    {
      "cell_type": "markdown",
      "metadata": {
        "id": "view-in-github",
        "colab_type": "text"
      },
      "source": [
        "<a href=\"https://colab.research.google.com/github/Pinuig/pythonProjects/blob/main/vowelOrConsonantt.ipynb\" target=\"_parent\"><img src=\"https://colab.research.google.com/assets/colab-badge.svg\" alt=\"Open In Colab\"/></a>"
      ]
    },
    {
      "cell_type": "code",
      "execution_count": 6,
      "metadata": {
        "colab": {
          "base_uri": "https://localhost:8080/"
        },
        "id": "nDBFglpCpU7G",
        "outputId": "d39d8287-36c2-4ebd-ae2e-9c21ffc37caa"
      },
      "outputs": [
        {
          "output_type": "stream",
          "name": "stdout",
          "text": [
            "Enter any letter of your choice: e\n",
            "it is a vowel\n"
          ]
        }
      ],
      "source": [
        "letter = input('Enter any letter of your choice: ')\n",
        "vowel = 'aeiouAEIOU'\n",
        "\n",
        "for i in letter:\n",
        "  if i in vowel:\n",
        "    print('it is a vowel')\n",
        "\n",
        "  else:\n",
        "    print('it is a consonant')"
      ]
    }
  ]
}