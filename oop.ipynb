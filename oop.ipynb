{
  "cells": [
    {
      "cell_type": "markdown",
      "metadata": {
        "id": "view-in-github",
        "colab_type": "text"
      },
      "source": [
        "<a href=\"https://colab.research.google.com/github/Pinuig/pythonProjects/blob/main/oop.ipynb\" target=\"_parent\"><img src=\"https://colab.research.google.com/assets/colab-badge.svg\" alt=\"Open In Colab\"/></a>"
      ]
    },
    {
      "cell_type": "code",
      "execution_count": 7,
      "metadata": {
        "colab": {
          "base_uri": "https://localhost:8080/"
        },
        "id": "nDBFglpCpU7G",
        "outputId": "f0e22a05-2460-4b0c-9004-e991011bd4d6"
      },
      "outputs": [
        {
          "output_type": "stream",
          "name": "stdout",
          "text": [
            "my name is Dave\n",
            "Dave you are eligible\n"
          ]
        }
      ],
      "source": [
        "class Person:\n",
        "\n",
        "  def __init__(self):\n",
        "    self.name='Dave'\n",
        "    self.gender='male'\n",
        "    self.age=23\n",
        "\n",
        "  def talk(self):\n",
        "    print('my name is', self.name)\n",
        "\n",
        "  def vote(self):\n",
        "    if self.age<18:\n",
        "      print(self.name,'you are not eligible for voting')\n",
        "\n",
        "    else:\n",
        "      print(self.name,'you are eligible')\n",
        "\n",
        "obj = Person()\n",
        "Person.talk(obj)\n",
        "Person.vote(obj)\n"
      ]
    }
  ],
  "metadata": {
    "colab": {
      "provenance": [],
      "authorship_tag": "ABX9TyMivywKcmURbJqriNvVqxhF",
      "include_colab_link": true
    },
    "kernelspec": {
      "display_name": "Python 3",
      "name": "python3"
    },
    "language_info": {
      "name": "python"
    }
  },
  "nbformat": 4,
  "nbformat_minor": 0
}