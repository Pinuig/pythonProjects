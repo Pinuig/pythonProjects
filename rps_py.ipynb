{
  "nbformat": 4,
  "nbformat_minor": 0,
  "metadata": {
    "colab": {
      "provenance": [],
      "authorship_tag": "ABX9TyNUHYSYEOQ6Gett6GoDsGvG"
    },
    "kernelspec": {
      "name": "python3",
      "display_name": "Python 3"
    },
    "language_info": {
      "name": "python"
    }
  },
  "cells": [
    {
      "cell_type": "code",
      "execution_count": 16,
      "metadata": {
        "colab": {
          "base_uri": "https://localhost:8080/",
          "height": 349
        },
        "id": "nSL3RNnSoqXl",
        "outputId": "0444a5c3-4e5b-475d-867e-fc19b08bf0c9"
      },
      "outputs": [
        {
          "name": "stdout",
          "output_type": "stream",
          "text": [
            "Enter your choice of value from 1,2,3 \n",
            "2\n"
          ]
        },
        {
          "output_type": "error",
          "ename": "ValueError",
          "evalue": "invalid literal for int() with base 10: ','",
          "traceback": [
            "\u001b[0;31m---------------------------------------------------------------------------\u001b[0m",
            "\u001b[0;31mValueError\u001b[0m                                Traceback (most recent call last)",
            "\u001b[0;32m<ipython-input-16-b2f30ad780a5>\u001b[0m in \u001b[0;36m<cell line: 53>\u001b[0;34m()\u001b[0m\n\u001b[1;32m     51\u001b[0m     \u001b[0msys\u001b[0m\u001b[0;34m.\u001b[0m\u001b[0mexit\u001b[0m\u001b[0;34m(\u001b[0m\u001b[0;34m\"bye!\"\u001b[0m\u001b[0;34m)\u001b[0m\u001b[0;34m\u001b[0m\u001b[0;34m\u001b[0m\u001b[0m\n\u001b[1;32m     52\u001b[0m \u001b[0;34m\u001b[0m\u001b[0m\n\u001b[0;32m---> 53\u001b[0;31m \u001b[0mplay_rps\u001b[0m\u001b[0;34m(\u001b[0m\u001b[0;34m)\u001b[0m\u001b[0;34m\u001b[0m\u001b[0;34m\u001b[0m\u001b[0m\n\u001b[0m",
            "\u001b[0;32m<ipython-input-16-b2f30ad780a5>\u001b[0m in \u001b[0;36mplay_rps\u001b[0;34m()\u001b[0m\n\u001b[1;32m     17\u001b[0m   \u001b[0mcomputerchoice\u001b[0m \u001b[0;34m=\u001b[0m \u001b[0mrandom\u001b[0m\u001b[0;34m.\u001b[0m\u001b[0mchoice\u001b[0m\u001b[0;34m(\u001b[0m\u001b[0;34m\"1,2,3\"\u001b[0m\u001b[0;34m)\u001b[0m\u001b[0;34m\u001b[0m\u001b[0;34m\u001b[0m\u001b[0m\n\u001b[1;32m     18\u001b[0m \u001b[0;34m\u001b[0m\u001b[0m\n\u001b[0;32m---> 19\u001b[0;31m   \u001b[0mcomputer\u001b[0m \u001b[0;34m=\u001b[0m \u001b[0mint\u001b[0m\u001b[0;34m(\u001b[0m\u001b[0mcomputerchoice\u001b[0m\u001b[0;34m)\u001b[0m\u001b[0;34m\u001b[0m\u001b[0;34m\u001b[0m\u001b[0m\n\u001b[0m\u001b[1;32m     20\u001b[0m \u001b[0;34m\u001b[0m\u001b[0m\n\u001b[1;32m     21\u001b[0m   \u001b[0mprint\u001b[0m\u001b[0;34m(\u001b[0m\u001b[0;34m\"\\n player choose\"\u001b[0m \u001b[0;34m+\u001b[0m \u001b[0mstr\u001b[0m\u001b[0;34m(\u001b[0m\u001b[0mRPS\u001b[0m\u001b[0;34m(\u001b[0m\u001b[0mplayer\u001b[0m\u001b[0;34m)\u001b[0m\u001b[0;34m)\u001b[0m\u001b[0;34m.\u001b[0m\u001b[0mreplace\u001b[0m\u001b[0;34m(\u001b[0m\u001b[0;34m'RPS.'\u001b[0m\u001b[0;34m,\u001b[0m \u001b[0;34m' '\u001b[0m\u001b[0;34m)\u001b[0m\u001b[0;34m.\u001b[0m\u001b[0mtitle\u001b[0m\u001b[0;34m(\u001b[0m\u001b[0;34m)\u001b[0m \u001b[0;34m+\u001b[0m \u001b[0;34m'.'\u001b[0m\u001b[0;34m)\u001b[0m\u001b[0;34m\u001b[0m\u001b[0;34m\u001b[0m\u001b[0m\n",
            "\u001b[0;31mValueError\u001b[0m: invalid literal for int() with base 10: ','"
          ]
        }
      ],
      "source": [
        "import sys\n",
        "import random\n",
        "from enum import Enum\n",
        "\n",
        "def play_rps():\n",
        "  class RPS(Enum):\n",
        "    ROCK = 1\n",
        "    PAPER = 2\n",
        "    SCISSOR = 3\n",
        "\n",
        "  playerchoice = input(\"Enter your choice of value from 1,2,3 \\n\")\n",
        "\n",
        "  if playerchoice not in [\"1\",\"2\",\"3\"]:\n",
        "    print(\"you must enter a value 1, 2,3 \\n\")\n",
        "    return play_rps()\n",
        "\n",
        "  player = int(playerchoice)\n",
        "  computerchoice = random.choice(\"1,2,3\")\n",
        "\n",
        "  computer = int(computerchoice)\n",
        "\n",
        "  print(\"\\n player choose\" + str(RPS(player)).replace('RPS.', ' ').title() + '.')\n",
        "  print(\"\\n computer choose\" , str(RPS(computer)).replace('RPS.', ' ').title() + '.')\n",
        "\n",
        "  if player == 1 and computer == 3:\n",
        "    print(\"player won\")\n",
        "\n",
        "  elif player == 2 and computer == 1:\n",
        "    print(\"player won\")\n",
        "\n",
        "  elif player == 3 and computer == 2:\n",
        "    print(\"computer won\")\n",
        "\n",
        "  elif player == computer :\n",
        "    print(\"game is a tie\")\n",
        "\n",
        "  else:\n",
        "    print(\"python won\")\n",
        "\n",
        "  while True:\n",
        "    playagain = input(\"\\n enter y for yes \\n enter q for quit \\n\")\n",
        "    if playagain.lower() not in ['y','q']:\n",
        "      continue\n",
        "    else:\n",
        "      break\n",
        "\n",
        "  if playagain.lower()==\"y\":\n",
        "    return play_rps()\n",
        "  else:\n",
        "    print('congrats \\n')\n",
        "    print('thanks \\n')\n",
        "    sys.exit(\"bye!\")\n",
        "\n",
        "play_rps()"
      ]
    }
  ]
}