{
  "nbformat": 4,
  "nbformat_minor": 0,
  "metadata": {
    "colab": {
      "provenance": [],
      "authorship_tag": "ABX9TyOjMTTTVTMsv6OimNHzyYwr",
      "include_colab_link": true
    },
    "kernelspec": {
      "name": "python3",
      "display_name": "Python 3"
    },
    "language_info": {
      "name": "python"
    }
  },
  "cells": [
    {
      "cell_type": "markdown",
      "metadata": {
        "id": "view-in-github",
        "colab_type": "text"
      },
      "source": [
        "<a href=\"https://colab.research.google.com/github/Pinuig/pythonProjects/blob/main/calculator.ipynb\" target=\"_parent\"><img src=\"https://colab.research.google.com/assets/colab-badge.svg\" alt=\"Open In Colab\"/></a>"
      ]
    },
    {
      "cell_type": "code",
      "execution_count": 5,
      "metadata": {
        "colab": {
          "base_uri": "https://localhost:8080/"
        },
        "id": "CfOWepQHyAOU",
        "outputId": "81f92753-4fda-4fec-9eaf-c7c689295d2f"
      },
      "outputs": [
        {
          "name": "stdout",
          "output_type": "stream",
          "text": [
            "select operand\n",
            "1. choose for add\n",
            "2. choose for subtraction\n",
            "3. choose for multiplication\n",
            "4. choose for division\n",
            "choose value from 1-4: 1\n",
            "Enter your firstr value: 4\n",
            "Enter your second value: 5\n",
            "4+5 = 9\n",
            "Do you want to perform another calculation? (yes/no): yes\n",
            "choose value from 1-4: 4\n",
            "Enter your firstr value: 5\n",
            "Enter your second value: 0\n",
            "Error!! value Invalid\n",
            "5/0 = None\n",
            "Do you want to perform another calculation? (yes/no): no\n"
          ]
        }
      ],
      "source": [
        "def add(x,y):\n",
        "    return x+y\n",
        "\n",
        "def multiply(x,y):\n",
        "    return x*y\n",
        "\n",
        "def subtract(x,y):\n",
        "    return x-y\n",
        "\n",
        "def divide(x,y):\n",
        "    if y == 0:\n",
        "        print(\"Error!! value Invalid\")\n",
        "    else:\n",
        "        return x/y\n",
        "\n",
        "def calculator():\n",
        "\n",
        "    print(\"select operand\")\n",
        "    print(\"1. choose for add\")\n",
        "    print(\"2. choose for subtraction\")\n",
        "    print(\"3. choose for multiplication\")\n",
        "    print(\"4. choose for division\")\n",
        "\n",
        "    while True:\n",
        "        try:\n",
        "            choose = input(\"choose value from 1-4: \")\n",
        "\n",
        "            if choose in ['1', '2','3' , '4']:\n",
        "                num1 = eval(input(\"Enter your firstr value: \"))\n",
        "                num2 = eval(input('Enter your second value: '))\n",
        "\n",
        "\n",
        "                if choose == '1':\n",
        "                    print(f\"{num1}+{num2} = {add(num1,num2)}\")\n",
        "                elif choose == '2':\n",
        "                    print(f\"{num1}-{num2} = {subtract(num1,num2)}\")\n",
        "\n",
        "                elif choose == '3':\n",
        "                    print(f\"{num1}*{num2} = {multiply(num1,num2)}\")\n",
        "\n",
        "                elif choose == '4':\n",
        "                    print(f\"{num1}/{num2} = {divide(num1,num2)}\")\n",
        "\n",
        "                next_calculation = input(\"Do you want to perform another calculation? (yes/no): \")\n",
        "                if next_calculation.lower() != 'yes':\n",
        "                  break\n",
        "            else:\n",
        "                print('invalid value')\n",
        "\n",
        "        except ValueError:\n",
        "            print('does not exist')\n",
        "\n",
        "calculator()\n",
        "\n",
        "\n",
        "\n",
        ""
      ]
    }
  ]
}