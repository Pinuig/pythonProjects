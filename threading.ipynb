{
  "nbformat": 4,
  "nbformat_minor": 0,
  "metadata": {
    "colab": {
      "provenance": [],
      "authorship_tag": "ABX9TyMhHaWSixFDk0LiiNfryUeZ",
      "include_colab_link": true
    },
    "kernelspec": {
      "name": "python3",
      "display_name": "Python 3"
    },
    "language_info": {
      "name": "python"
    }
  },
  "cells": [
    {
      "cell_type": "markdown",
      "metadata": {
        "id": "view-in-github",
        "colab_type": "text"
      },
      "source": [
        "<a href=\"https://colab.research.google.com/github/Pinuig/pythonProjects/blob/main/threading.ipynb\" target=\"_parent\"><img src=\"https://colab.research.google.com/assets/colab-badge.svg\" alt=\"Open In Colab\"/></a>"
      ]
    },
    {
      "cell_type": "code",
      "execution_count": 1,
      "metadata": {
        "id": "CfOWepQHyAOU",
        "colab": {
          "base_uri": "https://localhost:8080/"
        },
        "outputId": "3f09e9bc-c146-47f7-e40e-85af069e0b82"
      },
      "outputs": [
        {
          "output_type": "stream",
          "name": "stdout",
          "text": [
            "This is a child class\n",
            "This is a child class\n",
            "This is a child class\n",
            "This is a child class\n",
            "This is a child class\n",
            "This is the parent class\n",
            "This is the parent class\n",
            "This is the parent class\n",
            "This is the parent class\n",
            "This is the parent class\n"
          ]
        }
      ],
      "source": [
        "from threading import *\n",
        "\n",
        "class Demo:\n",
        "  def show(self):\n",
        "    for i in range(5):\n",
        "      print(\"This is a child class\")\n",
        "\n",
        "obj = Demo()\n",
        "t=Thread(target=obj.show())\n",
        "for i in range(5):\n",
        "  print(\"This is the parent class\")\n",
        ""
      ]
    },
    {
      "cell_type": "code",
      "source": [
        "import random\n",
        "\n",
        "words = ['hello','world','how','innovate']\n",
        "guess_words = random.choice(words)\n",
        "letter_guessed = []\n",
        "attempts = 5\n",
        "\n",
        "def word_guess():\n",
        "\n",
        "while attempts > 0:\n",
        "    print(\"Game starts\")\n",
        "    print(\"_\",len(guess_words))\n",
        "\n",
        "    guess = input(\"Guess a letter: \").lower()\n",
        "    if guess in letter_guessed:\n",
        "        print('you have guessed the word')\n",
        "\n",
        "    elif guess in guess_words:\n",
        "        letter_guessed.append(guess)\n",
        "        print(\"good guess\")\n",
        "\n",
        "    elif guess not in guess_words:\n",
        "        letter_guessed.append(guess)\n",
        "        attempts -= 1\n",
        "        print(f\"you lose and you have {attempts} left\")\n",
        "\n",
        "    tryagain = input(\"Do you want to play again (yes/no): \")\n",
        "    if tryagain == \"no\":\n",
        "        break\n",
        "\n",
        "    else:\n",
        "        word_display = [letter if letter in letter_guessed else \"_\" for letter in guess_words]\n",
        "        print(\" \".join(word_display))\n",
        "        if \"_\" not in word_display:\n",
        "            print(\"Congratulations! You've guessed the word.\")\n",
        "\n",
        "word_guess()\n",
        "\n",
        "\n",
        "\n"
      ],
      "metadata": {
        "colab": {
          "base_uri": "https://localhost:8080/",
          "height": 341
        },
        "id": "rjl12jhvUeNF",
        "outputId": "1323e6eb-329c-484b-ebc4-ee49dda9acf6"
      },
      "execution_count": null,
      "outputs": [
        {
          "output_type": "error",
          "ename": "UnboundLocalError",
          "evalue": "local variable 'attempts' referenced before assignment",
          "traceback": [
            "\u001b[0;31m---------------------------------------------------------------------------\u001b[0m",
            "\u001b[0;31mUnboundLocalError\u001b[0m                         Traceback (most recent call last)",
            "\u001b[0;32m<ipython-input-2-88c2a6cb5fcc>\u001b[0m in \u001b[0;36m<cell line: 37>\u001b[0;34m()\u001b[0m\n\u001b[1;32m     35\u001b[0m             \u001b[0mprint\u001b[0m\u001b[0;34m(\u001b[0m\u001b[0;34m\"Congratulations! You've guessed the word.\"\u001b[0m\u001b[0;34m)\u001b[0m\u001b[0;34m\u001b[0m\u001b[0;34m\u001b[0m\u001b[0m\n\u001b[1;32m     36\u001b[0m \u001b[0;34m\u001b[0m\u001b[0m\n\u001b[0;32m---> 37\u001b[0;31m \u001b[0mword_guess\u001b[0m\u001b[0;34m(\u001b[0m\u001b[0;34m)\u001b[0m\u001b[0;34m\u001b[0m\u001b[0;34m\u001b[0m\u001b[0m\n\u001b[0m\u001b[1;32m     38\u001b[0m \u001b[0;34m\u001b[0m\u001b[0m\n\u001b[1;32m     39\u001b[0m \u001b[0;34m\u001b[0m\u001b[0m\n",
            "\u001b[0;32m<ipython-input-2-88c2a6cb5fcc>\u001b[0m in \u001b[0;36mword_guess\u001b[0;34m()\u001b[0m\n\u001b[1;32m      8\u001b[0m \u001b[0;32mdef\u001b[0m \u001b[0mword_guess\u001b[0m\u001b[0;34m(\u001b[0m\u001b[0;34m)\u001b[0m\u001b[0;34m:\u001b[0m\u001b[0;34m\u001b[0m\u001b[0;34m\u001b[0m\u001b[0m\n\u001b[1;32m      9\u001b[0m \u001b[0;34m\u001b[0m\u001b[0m\n\u001b[0;32m---> 10\u001b[0;31m  \u001b[0;32mwhile\u001b[0m \u001b[0mattempts\u001b[0m \u001b[0;34m>\u001b[0m \u001b[0;36m0\u001b[0m\u001b[0;34m:\u001b[0m\u001b[0;34m\u001b[0m\u001b[0;34m\u001b[0m\u001b[0m\n\u001b[0m\u001b[1;32m     11\u001b[0m     \u001b[0mprint\u001b[0m\u001b[0;34m(\u001b[0m\u001b[0;34m\"Game starts\"\u001b[0m\u001b[0;34m)\u001b[0m\u001b[0;34m\u001b[0m\u001b[0;34m\u001b[0m\u001b[0m\n\u001b[1;32m     12\u001b[0m     \u001b[0mprint\u001b[0m\u001b[0;34m(\u001b[0m\u001b[0;34m\"_\"\u001b[0m\u001b[0;34m,\u001b[0m\u001b[0mlen\u001b[0m\u001b[0;34m(\u001b[0m\u001b[0mguess_words\u001b[0m\u001b[0;34m)\u001b[0m\u001b[0;34m)\u001b[0m\u001b[0;34m\u001b[0m\u001b[0;34m\u001b[0m\u001b[0m\n",
            "\u001b[0;31mUnboundLocalError\u001b[0m: local variable 'attempts' referenced before assignment"
          ]
        }
      ]
    }
  ]
}