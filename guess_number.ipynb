{
  "nbformat": 4,
  "nbformat_minor": 0,
  "metadata": {
    "colab": {
      "provenance": [],
      "authorship_tag": "ABX9TyMrW1gSVEY07LcmpPk8rRf4",
      "include_colab_link": true
    },
    "kernelspec": {
      "name": "python3",
      "display_name": "Python 3"
    },
    "language_info": {
      "name": "python"
    }
  },
  "cells": [
    {
      "cell_type": "markdown",
      "metadata": {
        "id": "view-in-github",
        "colab_type": "text"
      },
      "source": [
        "<a href=\"https://colab.research.google.com/github/Pinuig/pythonProjects/blob/main/guess_number.ipynb\" target=\"_parent\"><img src=\"https://colab.research.google.com/assets/colab-badge.svg\" alt=\"Open In Colab\"/></a>"
      ]
    },
    {
      "cell_type": "code",
      "execution_count": 13,
      "metadata": {
        "colab": {
          "base_uri": "https://localhost:8080/"
        },
        "id": "CfOWepQHyAOU",
        "outputId": "00c8403f-0ea7-4615-b021-9de1b1cdfd1d"
      },
      "outputs": [
        {
          "name": "stdout",
          "output_type": "stream",
          "text": [
            "Enter your guess between 1 and 101: 1\n",
            "Too low! Try again\n",
            "Do you want to play again yes or no:yes\n",
            "Enter your guess between 1 and 101: 2\n",
            "Too low! Try again\n",
            "Do you want to play again yes or no:yes\n",
            "Enter your guess between 1 and 101: 3\n",
            "Too low! Try again\n",
            "Do you want to play again yes or no:yes\n",
            "Enter your guess between 1 and 101: 4\n",
            "Too low! Try again\n",
            "Do you want to play again yes or no:yes\n",
            "Enter your guess between 1 and 101: 5\n",
            "Too low! Try again\n",
            "Do you want to play again yes or no:yes\n",
            "Enter your guess between 1 and 101: 6\n",
            "Too low! Try again\n",
            "Do you want to play again yes or no:yes\n",
            "Enter your guess between 1 and 101: 7\n",
            "Too low! Try again\n",
            "Do you want to play again yes or no:yes\n",
            "Enter your guess between 1 and 101: 8\n",
            "Too low! Try again\n",
            "Do you want to play again yes or no:yes\n",
            "Enter your guess between 1 and 101: 8\n",
            "Too low! Try again\n",
            "Do you want to play again yes or no:yes\n",
            "Enter your guess between 1 and 101: 9\n",
            "Too low! Try again\n",
            "Do you want to play again yes or no:yes\n",
            "Enter your guess between 1 and 101: 10\n",
            "Too low! Try again\n",
            "Do you want to play again yes or no:yes\n",
            "Enter your guess between 1 and 101: 11\n",
            "Too low! Try again\n",
            "Do you want to play again yes or no:yes\n",
            "Enter your guess between 1 and 101: 12\n",
            "Too low! Try again\n",
            "Do you want to play again yes or no:yes\n",
            "Enter your guess between 1 and 101: 13\n",
            "Too low! Try again\n",
            "Do you want to play again yes or no:yes\n",
            "Enter your guess between 1 and 101: 14\n",
            "Too low! Try again\n",
            "Do you want to play again yes or no:yes\n",
            "Enter your guess between 1 and 101: 15\n",
            "Too low! Try again\n",
            "Do you want to play again yes or no:yes\n",
            "Enter your guess between 1 and 101: 16\n",
            "Too low! Try again\n",
            "Do you want to play again yes or no:yes\n",
            "Enter your guess between 1 and 101: 67\n",
            "Too high! Try again\n",
            "Do you want to play again yes or no:yes\n",
            "Enter your guess between 1 and 101: 90\n",
            "Too high! Try again\n",
            "Do you want to play again yes or no:yes\n",
            "Enter your guess between 1 and 101: 5\n",
            "Too low! Try again\n",
            "Do you want to play again yes or no:yes\n",
            "Enter your guess between 1 and 101: 40\n",
            "Too high! Try again\n",
            "Do you want to play again yes or no:yes\n",
            "Enter your guess between 1 and 101: 30\n",
            "Too low! Try again\n",
            "Do you want to play again yes or no:yes\n",
            "Enter your guess between 1 and 101: 25\n",
            "Too low! Try again\n",
            "Do you want to play again yes or no:yes\n",
            "Enter your guess between 1 and 101: 56\n",
            "Too low! Try again\n",
            "Do you want to play again yes or no:no\n"
          ]
        }
      ],
      "source": [
        "import random\n",
        "\n",
        "def guess_number():\n",
        "  secret_number = random.randint(1,101)\n",
        "  attempts = 0\n",
        "\n",
        "  while True:\n",
        "    guess = int(input(\"Enter your guess between 1 and 101: \"))\n",
        "    attempts += 1\n",
        "\n",
        "    if guess > secret_number:\n",
        "      print(\"Too high! Try again\")\n",
        "\n",
        "    elif guess < secret_number:\n",
        "      print(\"Too low! Try again\")\n",
        "\n",
        "\n",
        "    elif guess == secret_number:\n",
        "      print(f\"congrats you won and you have made {attempts} attempts and secret_number was {secret_number}\")\n",
        "\n",
        "    next = input(\"Do you want to play again yes or no:\")\n",
        "    if next == 'no':\n",
        "      break\n",
        "\n",
        "    else:\n",
        "      secret_number = random.randint(1,101)\n",
        "      attempts = 0\n",
        "      continue\n",
        "\n",
        "\n",
        "guess_number()"
      ]
    }
  ]
}